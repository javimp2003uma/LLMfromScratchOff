{
 "cells": [
  {
   "cell_type": "code",
   "execution_count": 2,
   "id": "9f244f0f-f368-42a9-bfe8-0dc4b37ab500",
   "metadata": {},
   "outputs": [],
   "source": [
    "%%capture\n",
    "%run GPTarchitecture.ipynb"
   ]
  },
  {
   "cell_type": "code",
   "execution_count": null,
   "id": "fa1912e5-4e09-4792-8698-0b84dcf91fc6",
   "metadata": {},
   "outputs": [],
   "source": []
  }
 ],
 "metadata": {
  "kernelspec": {
   "display_name": "venvLLM",
   "language": "python",
   "name": "venv"
  },
  "language_info": {
   "codemirror_mode": {
    "name": "ipython",
    "version": 3
   },
   "file_extension": ".py",
   "mimetype": "text/x-python",
   "name": "python",
   "nbconvert_exporter": "python",
   "pygments_lexer": "ipython3",
   "version": "3.10.12"
  }
 },
 "nbformat": 4,
 "nbformat_minor": 5
}
