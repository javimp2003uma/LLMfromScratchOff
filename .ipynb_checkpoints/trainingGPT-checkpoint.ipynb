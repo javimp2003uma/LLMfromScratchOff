{
 "cells": [
  {
   "cell_type": "code",
   "execution_count": 1,
   "id": "9f244f0f-f368-42a9-bfe8-0dc4b37ab500",
   "metadata": {},
   "outputs": [],
   "source": [
    "%%capture\n",
    "%run GPTarchitecture.ipynb"
   ]
  },
  {
   "cell_type": "code",
   "execution_count": 2,
   "id": "fa1912e5-4e09-4792-8698-0b84dcf91fc6",
   "metadata": {},
   "outputs": [
    {
     "data": {
      "text/plain": [
       "GPTModel(\n",
       "  (tok_emb): Embedding(50257, 768)\n",
       "  (pos_emb): Embedding(256, 768)\n",
       "  (drop_emb): Dropout(p=0.1, inplace=False)\n",
       "  (trf_blocks): Sequential(\n",
       "    (0): TransformerBlock(\n",
       "      (att): MultiHeadAttention(\n",
       "        (W_query): Linear(in_features=768, out_features=768, bias=False)\n",
       "        (W_key): Linear(in_features=768, out_features=768, bias=False)\n",
       "        (W_value): Linear(in_features=768, out_features=768, bias=False)\n",
       "        (out_proj): Linear(in_features=768, out_features=768, bias=True)\n",
       "        (dropout): Dropout(p=0.1, inplace=False)\n",
       "      )\n",
       "      (ff): FeedForward(\n",
       "        (layers): Sequential(\n",
       "          (0): Linear(in_features=768, out_features=3072, bias=True)\n",
       "          (1): GELU()\n",
       "          (2): Linear(in_features=3072, out_features=768, bias=True)\n",
       "        )\n",
       "      )\n",
       "      (norm1): LayerNorm()\n",
       "      (norm2): LayerNorm()\n",
       "      (drop_shortcut): Dropout(p=0.1, inplace=False)\n",
       "    )\n",
       "    (1): TransformerBlock(\n",
       "      (att): MultiHeadAttention(\n",
       "        (W_query): Linear(in_features=768, out_features=768, bias=False)\n",
       "        (W_key): Linear(in_features=768, out_features=768, bias=False)\n",
       "        (W_value): Linear(in_features=768, out_features=768, bias=False)\n",
       "        (out_proj): Linear(in_features=768, out_features=768, bias=True)\n",
       "        (dropout): Dropout(p=0.1, inplace=False)\n",
       "      )\n",
       "      (ff): FeedForward(\n",
       "        (layers): Sequential(\n",
       "          (0): Linear(in_features=768, out_features=3072, bias=True)\n",
       "          (1): GELU()\n",
       "          (2): Linear(in_features=3072, out_features=768, bias=True)\n",
       "        )\n",
       "      )\n",
       "      (norm1): LayerNorm()\n",
       "      (norm2): LayerNorm()\n",
       "      (drop_shortcut): Dropout(p=0.1, inplace=False)\n",
       "    )\n",
       "    (2): TransformerBlock(\n",
       "      (att): MultiHeadAttention(\n",
       "        (W_query): Linear(in_features=768, out_features=768, bias=False)\n",
       "        (W_key): Linear(in_features=768, out_features=768, bias=False)\n",
       "        (W_value): Linear(in_features=768, out_features=768, bias=False)\n",
       "        (out_proj): Linear(in_features=768, out_features=768, bias=True)\n",
       "        (dropout): Dropout(p=0.1, inplace=False)\n",
       "      )\n",
       "      (ff): FeedForward(\n",
       "        (layers): Sequential(\n",
       "          (0): Linear(in_features=768, out_features=3072, bias=True)\n",
       "          (1): GELU()\n",
       "          (2): Linear(in_features=3072, out_features=768, bias=True)\n",
       "        )\n",
       "      )\n",
       "      (norm1): LayerNorm()\n",
       "      (norm2): LayerNorm()\n",
       "      (drop_shortcut): Dropout(p=0.1, inplace=False)\n",
       "    )\n",
       "    (3): TransformerBlock(\n",
       "      (att): MultiHeadAttention(\n",
       "        (W_query): Linear(in_features=768, out_features=768, bias=False)\n",
       "        (W_key): Linear(in_features=768, out_features=768, bias=False)\n",
       "        (W_value): Linear(in_features=768, out_features=768, bias=False)\n",
       "        (out_proj): Linear(in_features=768, out_features=768, bias=True)\n",
       "        (dropout): Dropout(p=0.1, inplace=False)\n",
       "      )\n",
       "      (ff): FeedForward(\n",
       "        (layers): Sequential(\n",
       "          (0): Linear(in_features=768, out_features=3072, bias=True)\n",
       "          (1): GELU()\n",
       "          (2): Linear(in_features=3072, out_features=768, bias=True)\n",
       "        )\n",
       "      )\n",
       "      (norm1): LayerNorm()\n",
       "      (norm2): LayerNorm()\n",
       "      (drop_shortcut): Dropout(p=0.1, inplace=False)\n",
       "    )\n",
       "    (4): TransformerBlock(\n",
       "      (att): MultiHeadAttention(\n",
       "        (W_query): Linear(in_features=768, out_features=768, bias=False)\n",
       "        (W_key): Linear(in_features=768, out_features=768, bias=False)\n",
       "        (W_value): Linear(in_features=768, out_features=768, bias=False)\n",
       "        (out_proj): Linear(in_features=768, out_features=768, bias=True)\n",
       "        (dropout): Dropout(p=0.1, inplace=False)\n",
       "      )\n",
       "      (ff): FeedForward(\n",
       "        (layers): Sequential(\n",
       "          (0): Linear(in_features=768, out_features=3072, bias=True)\n",
       "          (1): GELU()\n",
       "          (2): Linear(in_features=3072, out_features=768, bias=True)\n",
       "        )\n",
       "      )\n",
       "      (norm1): LayerNorm()\n",
       "      (norm2): LayerNorm()\n",
       "      (drop_shortcut): Dropout(p=0.1, inplace=False)\n",
       "    )\n",
       "    (5): TransformerBlock(\n",
       "      (att): MultiHeadAttention(\n",
       "        (W_query): Linear(in_features=768, out_features=768, bias=False)\n",
       "        (W_key): Linear(in_features=768, out_features=768, bias=False)\n",
       "        (W_value): Linear(in_features=768, out_features=768, bias=False)\n",
       "        (out_proj): Linear(in_features=768, out_features=768, bias=True)\n",
       "        (dropout): Dropout(p=0.1, inplace=False)\n",
       "      )\n",
       "      (ff): FeedForward(\n",
       "        (layers): Sequential(\n",
       "          (0): Linear(in_features=768, out_features=3072, bias=True)\n",
       "          (1): GELU()\n",
       "          (2): Linear(in_features=3072, out_features=768, bias=True)\n",
       "        )\n",
       "      )\n",
       "      (norm1): LayerNorm()\n",
       "      (norm2): LayerNorm()\n",
       "      (drop_shortcut): Dropout(p=0.1, inplace=False)\n",
       "    )\n",
       "    (6): TransformerBlock(\n",
       "      (att): MultiHeadAttention(\n",
       "        (W_query): Linear(in_features=768, out_features=768, bias=False)\n",
       "        (W_key): Linear(in_features=768, out_features=768, bias=False)\n",
       "        (W_value): Linear(in_features=768, out_features=768, bias=False)\n",
       "        (out_proj): Linear(in_features=768, out_features=768, bias=True)\n",
       "        (dropout): Dropout(p=0.1, inplace=False)\n",
       "      )\n",
       "      (ff): FeedForward(\n",
       "        (layers): Sequential(\n",
       "          (0): Linear(in_features=768, out_features=3072, bias=True)\n",
       "          (1): GELU()\n",
       "          (2): Linear(in_features=3072, out_features=768, bias=True)\n",
       "        )\n",
       "      )\n",
       "      (norm1): LayerNorm()\n",
       "      (norm2): LayerNorm()\n",
       "      (drop_shortcut): Dropout(p=0.1, inplace=False)\n",
       "    )\n",
       "    (7): TransformerBlock(\n",
       "      (att): MultiHeadAttention(\n",
       "        (W_query): Linear(in_features=768, out_features=768, bias=False)\n",
       "        (W_key): Linear(in_features=768, out_features=768, bias=False)\n",
       "        (W_value): Linear(in_features=768, out_features=768, bias=False)\n",
       "        (out_proj): Linear(in_features=768, out_features=768, bias=True)\n",
       "        (dropout): Dropout(p=0.1, inplace=False)\n",
       "      )\n",
       "      (ff): FeedForward(\n",
       "        (layers): Sequential(\n",
       "          (0): Linear(in_features=768, out_features=3072, bias=True)\n",
       "          (1): GELU()\n",
       "          (2): Linear(in_features=3072, out_features=768, bias=True)\n",
       "        )\n",
       "      )\n",
       "      (norm1): LayerNorm()\n",
       "      (norm2): LayerNorm()\n",
       "      (drop_shortcut): Dropout(p=0.1, inplace=False)\n",
       "    )\n",
       "    (8): TransformerBlock(\n",
       "      (att): MultiHeadAttention(\n",
       "        (W_query): Linear(in_features=768, out_features=768, bias=False)\n",
       "        (W_key): Linear(in_features=768, out_features=768, bias=False)\n",
       "        (W_value): Linear(in_features=768, out_features=768, bias=False)\n",
       "        (out_proj): Linear(in_features=768, out_features=768, bias=True)\n",
       "        (dropout): Dropout(p=0.1, inplace=False)\n",
       "      )\n",
       "      (ff): FeedForward(\n",
       "        (layers): Sequential(\n",
       "          (0): Linear(in_features=768, out_features=3072, bias=True)\n",
       "          (1): GELU()\n",
       "          (2): Linear(in_features=3072, out_features=768, bias=True)\n",
       "        )\n",
       "      )\n",
       "      (norm1): LayerNorm()\n",
       "      (norm2): LayerNorm()\n",
       "      (drop_shortcut): Dropout(p=0.1, inplace=False)\n",
       "    )\n",
       "    (9): TransformerBlock(\n",
       "      (att): MultiHeadAttention(\n",
       "        (W_query): Linear(in_features=768, out_features=768, bias=False)\n",
       "        (W_key): Linear(in_features=768, out_features=768, bias=False)\n",
       "        (W_value): Linear(in_features=768, out_features=768, bias=False)\n",
       "        (out_proj): Linear(in_features=768, out_features=768, bias=True)\n",
       "        (dropout): Dropout(p=0.1, inplace=False)\n",
       "      )\n",
       "      (ff): FeedForward(\n",
       "        (layers): Sequential(\n",
       "          (0): Linear(in_features=768, out_features=3072, bias=True)\n",
       "          (1): GELU()\n",
       "          (2): Linear(in_features=3072, out_features=768, bias=True)\n",
       "        )\n",
       "      )\n",
       "      (norm1): LayerNorm()\n",
       "      (norm2): LayerNorm()\n",
       "      (drop_shortcut): Dropout(p=0.1, inplace=False)\n",
       "    )\n",
       "    (10): TransformerBlock(\n",
       "      (att): MultiHeadAttention(\n",
       "        (W_query): Linear(in_features=768, out_features=768, bias=False)\n",
       "        (W_key): Linear(in_features=768, out_features=768, bias=False)\n",
       "        (W_value): Linear(in_features=768, out_features=768, bias=False)\n",
       "        (out_proj): Linear(in_features=768, out_features=768, bias=True)\n",
       "        (dropout): Dropout(p=0.1, inplace=False)\n",
       "      )\n",
       "      (ff): FeedForward(\n",
       "        (layers): Sequential(\n",
       "          (0): Linear(in_features=768, out_features=3072, bias=True)\n",
       "          (1): GELU()\n",
       "          (2): Linear(in_features=3072, out_features=768, bias=True)\n",
       "        )\n",
       "      )\n",
       "      (norm1): LayerNorm()\n",
       "      (norm2): LayerNorm()\n",
       "      (drop_shortcut): Dropout(p=0.1, inplace=False)\n",
       "    )\n",
       "    (11): TransformerBlock(\n",
       "      (att): MultiHeadAttention(\n",
       "        (W_query): Linear(in_features=768, out_features=768, bias=False)\n",
       "        (W_key): Linear(in_features=768, out_features=768, bias=False)\n",
       "        (W_value): Linear(in_features=768, out_features=768, bias=False)\n",
       "        (out_proj): Linear(in_features=768, out_features=768, bias=True)\n",
       "        (dropout): Dropout(p=0.1, inplace=False)\n",
       "      )\n",
       "      (ff): FeedForward(\n",
       "        (layers): Sequential(\n",
       "          (0): Linear(in_features=768, out_features=3072, bias=True)\n",
       "          (1): GELU()\n",
       "          (2): Linear(in_features=3072, out_features=768, bias=True)\n",
       "        )\n",
       "      )\n",
       "      (norm1): LayerNorm()\n",
       "      (norm2): LayerNorm()\n",
       "      (drop_shortcut): Dropout(p=0.1, inplace=False)\n",
       "    )\n",
       "  )\n",
       "  (final_norm): LayerNorm()\n",
       "  (out_head): Linear(in_features=768, out_features=50257, bias=False)\n",
       ")"
      ]
     },
     "execution_count": 2,
     "metadata": {},
     "output_type": "execute_result"
    }
   ],
   "source": [
    "GPT_CONFIG_124M = {\n",
    "    \"vocab_size\": 50257,   # Vocabulary size\n",
    "    \"context_length\": 256, # Shortened context length (orig: 1024)\n",
    "    \"emb_dim\": 768,        # Embedding dimension\n",
    "    \"n_heads\": 12,         # Number of attention heads\n",
    "    \"n_layers\": 12,        # Number of layers\n",
    "    \"drop_rate\": 0.1,      # Dropout rate\n",
    "    \"qkv_bias\": False      # Query-key-value bias\n",
    "}\n",
    "torch.manual_seed(123)\n",
    "model = GPTModel(GPT_CONFIG_124M)\n",
    "model.eval()"
   ]
  },
  {
   "cell_type": "code",
   "execution_count": 3,
   "id": "d2ed0001-777d-48ba-bec9-4fb37990b214",
   "metadata": {},
   "outputs": [
    {
     "name": "stdout",
     "output_type": "stream",
     "text": [
      "Output text:\n",
      " Every effort moves you rentingetic wasnم refres RexMeCHicular stren\n"
     ]
    }
   ],
   "source": [
    "# import tiktoken\n",
    "\n",
    "def text_to_token_ids(text, tokenizer):\n",
    "    encoded = tokenizer.encode(text, allowed_special={'<|endoftext|>'})\n",
    "    encoded_tensor = torch.tensor(encoded).unsqueeze(0) # add batch dimension\n",
    "    return encoded_tensor\n",
    "\n",
    "def token_ids_to_text(token_ids, tokenizer):\n",
    "    flat = token_ids.squeeze(0) # remove batch dimension\n",
    "    return tokenizer.decode(flat.tolist())\n",
    "\n",
    "start_context = \"Every effort moves you\"\n",
    "tokenizer = tiktoken.get_encoding(\"gpt2\")\n",
    "\n",
    "token_ids = generate_text_simple(\n",
    "    model=model,\n",
    "    idx=text_to_token_ids(start_context, tokenizer),\n",
    "    max_new_tokens=10,\n",
    "    context_size=GPT_CONFIG_124M[\"context_length\"]\n",
    ")\n",
    "\n",
    "print(\"Output text:\\n\", token_ids_to_text(token_ids, tokenizer))"
   ]
  },
  {
   "cell_type": "code",
   "execution_count": 4,
   "id": "7d55b42c-3ef5-46a5-976a-2906c3207b35",
   "metadata": {},
   "outputs": [],
   "source": [
    "# Calculating the text generation loss: cross-entropy and perplexity\n",
    "inputs = torch.tensor([[16833, 3626, 6100],   # [\"every effort moves\",\n",
    "                       [40,    1107, 588]])   #  \"I really like\"]\n",
    "\n",
    "targets = torch.tensor([[3626, 6100, 345  ],  # [\" effort moves you\",\n",
    "                        [1107,  588, 11311]]) #  \" really like chocolate\"]"
   ]
  },
  {
   "cell_type": "code",
   "execution_count": 5,
   "id": "16e7ceb0-d55e-46f8-a9e1-6d0967e8ddde",
   "metadata": {},
   "outputs": [
    {
     "name": "stdout",
     "output_type": "stream",
     "text": [
      "torch.Size([2, 3, 50257])\n"
     ]
    }
   ],
   "source": [
    "with torch.no_grad():\n",
    "    logits = model(inputs)\n",
    "\n",
    "probas = torch.softmax(logits, dim=-1) # Probability of each token in vocabulary\n",
    "print(probas.shape) # Shape: (batch_size, num_tokens, vocab_size)"
   ]
  },
  {
   "cell_type": "code",
   "execution_count": 6,
   "id": "c2b119f4-a26e-4aa6-8e16-a86b10feabef",
   "metadata": {},
   "outputs": [
    {
     "name": "stdout",
     "output_type": "stream",
     "text": [
      "Token IDs:\n",
      " tensor([[[16657],\n",
      "         [  339],\n",
      "         [42826]],\n",
      "\n",
      "        [[49906],\n",
      "         [29669],\n",
      "         [41751]]])\n"
     ]
    }
   ],
   "source": [
    "token_ids = torch.argmax(probas, dim=-1, keepdim=True)\n",
    "print(\"Token IDs:\\n\", token_ids)"
   ]
  },
  {
   "cell_type": "code",
   "execution_count": 7,
   "id": "1deb4801-83a4-448f-a0db-0ee06da484cc",
   "metadata": {},
   "outputs": [
    {
     "name": "stdout",
     "output_type": "stream",
     "text": [
      "Targets batch 1:  effort moves you\n",
      "Outputs batch 1:  Armed heNetflix\n"
     ]
    }
   ],
   "source": [
    "print(f\"Targets batch 1: {token_ids_to_text(targets[0], tokenizer)}\")\n",
    "print(f\"Outputs batch 1: {token_ids_to_text(token_ids[0].flatten(), tokenizer)}\")"
   ]
  },
  {
   "cell_type": "code",
   "execution_count": 8,
   "id": "d04f2031-af86-411f-ba3f-1a5a8bc1836b",
   "metadata": {},
   "outputs": [
    {
     "name": "stdout",
     "output_type": "stream",
     "text": [
      "Text 1: tensor([7.4540e-05, 3.1061e-05, 1.1563e-05])\n",
      "Text 2: tensor([1.0337e-05, 5.6776e-05, 4.7559e-06])\n"
     ]
    }
   ],
   "source": [
    "text_idx = 0\n",
    "target_probas_1 = probas[text_idx, [0, 1, 2], targets[text_idx]]\n",
    "print(\"Text 1:\", target_probas_1)\n",
    "\n",
    "text_idx = 1\n",
    "target_probas_2 = probas[text_idx, [0, 1, 2], targets[text_idx]]\n",
    "print(\"Text 2:\", target_probas_2)"
   ]
  },
  {
   "cell_type": "code",
   "execution_count": 9,
   "id": "df2c6de5-83a2-4552-97f0-ee7a9f3e911b",
   "metadata": {},
   "outputs": [
    {
     "name": "stdout",
     "output_type": "stream",
     "text": [
      "tensor([ -9.5042, -10.3796, -11.3677, -11.4798,  -9.7764, -12.2561])\n"
     ]
    }
   ],
   "source": [
    "# Compute logarithm of all token probabilities\n",
    "log_probas = torch.log(torch.cat((target_probas_1, target_probas_2)))\n",
    "print(log_probas)"
   ]
  },
  {
   "cell_type": "code",
   "execution_count": 10,
   "id": "39a7746d-4a1d-4bda-a521-83f4a3bc8d52",
   "metadata": {},
   "outputs": [
    {
     "name": "stdout",
     "output_type": "stream",
     "text": [
      "tensor(-10.7940)\n"
     ]
    }
   ],
   "source": [
    "\"\"\"The goal is to get the average log probability as close to 0 as possible by\n",
    "updating the model's weights as part of the training process\"\"\"\n",
    "avg_log_probas = torch.mean(log_probas)\n",
    "print(avg_log_probas)"
   ]
  },
  {
   "cell_type": "code",
   "execution_count": 11,
   "id": "63a436c2-3023-450d-a71b-700a9298a13c",
   "metadata": {},
   "outputs": [
    {
     "name": "stdout",
     "output_type": "stream",
     "text": [
      "tensor(10.7940)\n"
     ]
    }
   ],
   "source": [
    "neg_avg_log_probas = avg_log_probas * -1\n",
    "print(neg_avg_log_probas)"
   ]
  },
  {
   "cell_type": "code",
   "execution_count": 12,
   "id": "ca490bb9-fb85-4ae2-aa75-51cfa828bd43",
   "metadata": {},
   "outputs": [
    {
     "name": "stdout",
     "output_type": "stream",
     "text": [
      "Logits shape: torch.Size([2, 3, 50257])\n",
      "Targets shape: torch.Size([2, 3])\n"
     ]
    }
   ],
   "source": [
    "print(\"Logits shape:\", logits.shape)\n",
    "print(\"Targets shape:\", targets.shape)"
   ]
  },
  {
   "cell_type": "code",
   "execution_count": 13,
   "id": "98a2e475-2e49-4bd4-ba5c-0b06efc83994",
   "metadata": {},
   "outputs": [
    {
     "name": "stdout",
     "output_type": "stream",
     "text": [
      "Flattened logits: torch.Size([6, 50257])\n",
      "Flattened targets: torch.Size([6])\n"
     ]
    }
   ],
   "source": [
    "logits_flat = logits.flatten(0, 1)\n",
    "targets_flat = targets.flatten()\n",
    "print(\"Flattened logits:\", logits_flat.shape)\n",
    "print(\"Flattened targets:\", targets_flat.shape)"
   ]
  },
  {
   "cell_type": "code",
   "execution_count": 14,
   "id": "e76e3cd5-ceaa-47a4-8ccc-80e0785e5143",
   "metadata": {},
   "outputs": [
    {
     "name": "stdout",
     "output_type": "stream",
     "text": [
      "tensor(10.7940)\n"
     ]
    }
   ],
   "source": [
    "loss = torch.nn.functional.cross_entropy(logits_flat, targets_flat)\n",
    "print(loss)"
   ]
  },
  {
   "cell_type": "code",
   "execution_count": 15,
   "id": "c8f3c48f-4610-4baf-a906-687f7f0e03cc",
   "metadata": {},
   "outputs": [
    {
     "name": "stdout",
     "output_type": "stream",
     "text": [
      "tensor(48725.8203)\n"
     ]
    }
   ],
   "source": [
    "perplexity = torch.exp(loss)\n",
    "print(perplexity)"
   ]
  },
  {
   "cell_type": "code",
   "execution_count": 16,
   "id": "a5dbf2bf-d0ac-4e64-985c-24d03c687fa4",
   "metadata": {},
   "outputs": [],
   "source": [
    "# Load and preprocess text files\n",
    "from datasets import load_dataset\n",
    "\n",
    "ds = load_dataset(\"A2H0H0R1/Animal-nutrition\")\n",
    "\n",
    "text_data = \"\"\n",
    "\n",
    "# Iterate through the first 100 samples\n",
    "for sample in ds['train'][:100]['text']:\n",
    "    # Strip leading and trailing whitespace\n",
    "    cleaned_text = sample.strip()\n",
    "    # Check if text is not empty\n",
    "    if cleaned_text:\n",
    "        # Add cleaned text and a newline for separation\n",
    "        text_data += cleaned_text  # Two newlines for separation\n",
    "text_data = text_data.replace(\"Question: \", \"\").replace(\"Answer: \", \"\")"
   ]
  },
  {
   "cell_type": "code",
   "execution_count": 17,
   "id": "9087d49b-8ff1-46a5-ba1f-86350fb291fd",
   "metadata": {},
   "outputs": [
    {
     "data": {
      "text/plain": [
       "'\\n# Uncomment the following code block in order to execute the train with Animal nutrition dataset\\nimport os\\n\\ndef combine_texts(text_dir):\\n    combined_text = \"\"\\n    files_processed = 0\\n    for filename in os.listdir(text_dir):\\n        if filename.endswith(\\'.txt\\'):\\n            with open(os.path.join(text_dir, filename), \\'r\\', encoding=\\'utf-8\\') as file:\\n                combined_text += file.read() + \"\\n\"  # Add a newline to separate contents of different files\\n                files_processed += 1\\n                if files_processed >= 20:\\n                    break\\n\\n    return combined_text\\n\\ntext_data = combine_texts(\"openwebtext\")\\n'"
      ]
     },
     "execution_count": 17,
     "metadata": {},
     "output_type": "execute_result"
    }
   ],
   "source": [
    "\"\"\"\n",
    "# Uncomment the following code block in order to execute the train with Animal nutrition dataset\n",
    "import os\n",
    "\n",
    "def combine_texts(text_dir):\n",
    "    combined_text = \"\"\n",
    "    files_processed = 0\n",
    "    for filename in os.listdir(text_dir):\n",
    "        if filename.endswith('.txt'):\n",
    "            with open(os.path.join(text_dir, filename), 'r', encoding='utf-8') as file:\n",
    "                combined_text += file.read() + \"\\n\"  # Add a newline to separate contents of different files\n",
    "                files_processed += 1\n",
    "                if files_processed >= 20:\n",
    "                    break\n",
    "\n",
    "    return combined_text\n",
    "\n",
    "text_data = combine_texts(\"openwebtext\")\n",
    "\"\"\""
   ]
  },
  {
   "cell_type": "code",
   "execution_count": 18,
   "id": "05d787f3-b68c-4ce5-b7a2-506332fa192a",
   "metadata": {},
   "outputs": [
    {
     "name": "stdout",
     "output_type": "stream",
     "text": [
      "Characters: 100390\n",
      "Tokens: 19364\n"
     ]
    }
   ],
   "source": [
    "total_characters = len(text_data)\n",
    "total_tokens = len(tokenizer.encode(text_data))\n",
    "\n",
    "print(\"Characters:\", total_characters)\n",
    "print(\"Tokens:\", total_tokens)\n",
    "\n",
    "train_ratio = 0.90\n",
    "split_idx = int(train_ratio * len(text_data))\n",
    "train_data = text_data[:split_idx]\n",
    "val_data = text_data[split_idx:]"
   ]
  },
  {
   "cell_type": "code",
   "execution_count": 19,
   "id": "2d2044bc-9c12-438b-b79b-b11232d55444",
   "metadata": {},
   "outputs": [],
   "source": [
    "# Sanity check\n",
    "\n",
    "if total_tokens * (train_ratio) < GPT_CONFIG_124M[\"context_length\"]:\n",
    "    print(\"Not enough tokens for the training loader. \"\n",
    "          \"Try to lower the `GPT_CONFIG_124M['context_length']` or \"\n",
    "          \"increase the `training_ratio`\")\n",
    "\n",
    "if total_tokens * (1-train_ratio) < GPT_CONFIG_124M[\"context_length\"]:\n",
    "    print(\"Not enough tokens for the validation loader. \"\n",
    "          \"Try to lower the `GPT_CONFIG_124M['context_length']` or \"\n",
    "          \"decrease the `training_ratio`\")"
   ]
  },
  {
   "cell_type": "code",
   "execution_count": 20,
   "id": "63d74704-2071-47b5-972b-3c05da1375f4",
   "metadata": {},
   "outputs": [],
   "source": [
    "# Getting dataloader from chapter 2 ...\n",
    "\n",
    "from torch.utils.data import Dataset, DataLoader\n",
    "\n",
    "class GPTDatasetV1(Dataset):\n",
    "    def __init__(self, txt, tokenizer, max_length, stride):\n",
    "        self.input_ids = []\n",
    "        self.target_ids = []\n",
    "\n",
    "        # Tokenize the entire text\n",
    "        token_ids = tokenizer.encode(txt, allowed_special={\"<|endoftext|>\"})\n",
    "\n",
    "        # Use a sliding window to chunk the book into overlapping sequences of max_length\n",
    "        for i in range(0, len(token_ids) - max_length, stride):\n",
    "            input_chunk = token_ids[i:i + max_length]\n",
    "            target_chunk = token_ids[i + 1: i + max_length + 1]\n",
    "            self.input_ids.append(torch.tensor(input_chunk))\n",
    "            self.target_ids.append(torch.tensor(target_chunk))\n",
    "\n",
    "    def __len__(self):\n",
    "        return len(self.input_ids)\n",
    "\n",
    "    def __getitem__(self, idx):\n",
    "        return self.input_ids[idx], self.target_ids[idx]\n",
    "\n",
    "def create_dataloader_v1(txt, batch_size=4, max_length=256, \n",
    "                         stride=128, shuffle=True, drop_last=True,\n",
    "                         num_workers=0):\n",
    "\n",
    "    # Initialize the tokenizer\n",
    "    tokenizer = tiktoken.get_encoding(\"gpt2\")\n",
    "\n",
    "    # Create dataset\n",
    "    dataset = GPTDatasetV1(txt, tokenizer, max_length, stride)\n",
    "\n",
    "    # Create dataloader\n",
    "    dataloader = DataLoader(\n",
    "        dataset,\n",
    "        batch_size=batch_size,\n",
    "        shuffle=shuffle,\n",
    "        drop_last=drop_last,\n",
    "        num_workers=num_workers\n",
    "    )\n",
    "\n",
    "    return dataloader"
   ]
  },
  {
   "cell_type": "code",
   "execution_count": 21,
   "id": "aeb483e5-5c4e-4981-815e-2ad82c114aad",
   "metadata": {},
   "outputs": [],
   "source": [
    "torch.manual_seed(123)\n",
    "\n",
    "train_loader = create_dataloader_v1(\n",
    "    train_data,\n",
    "    batch_size=2,\n",
    "    max_length=GPT_CONFIG_124M[\"context_length\"],\n",
    "    stride=GPT_CONFIG_124M[\"context_length\"],\n",
    "    drop_last=True,\n",
    "    shuffle=True,\n",
    "    num_workers=0\n",
    ")\n",
    "\n",
    "val_loader = create_dataloader_v1(\n",
    "    val_data,\n",
    "    batch_size=2,\n",
    "    max_length=GPT_CONFIG_124M[\"context_length\"],\n",
    "    stride=GPT_CONFIG_124M[\"context_length\"],\n",
    "    drop_last=False,\n",
    "    shuffle=False,\n",
    "    num_workers=0\n",
    ")"
   ]
  },
  {
   "cell_type": "code",
   "execution_count": 22,
   "id": "9c827564-d2b4-4a79-8144-0a3eaf9a8ae1",
   "metadata": {},
   "outputs": [
    {
     "name": "stdout",
     "output_type": "stream",
     "text": [
      "Train loader:\n",
      "torch.Size([2, 256]) torch.Size([2, 256])\n",
      "torch.Size([2, 256]) torch.Size([2, 256])\n",
      "torch.Size([2, 256]) torch.Size([2, 256])\n",
      "torch.Size([2, 256]) torch.Size([2, 256])\n",
      "torch.Size([2, 256]) torch.Size([2, 256])\n",
      "torch.Size([2, 256]) torch.Size([2, 256])\n",
      "torch.Size([2, 256]) torch.Size([2, 256])\n",
      "torch.Size([2, 256]) torch.Size([2, 256])\n",
      "torch.Size([2, 256]) torch.Size([2, 256])\n",
      "torch.Size([2, 256]) torch.Size([2, 256])\n",
      "torch.Size([2, 256]) torch.Size([2, 256])\n",
      "torch.Size([2, 256]) torch.Size([2, 256])\n",
      "torch.Size([2, 256]) torch.Size([2, 256])\n",
      "torch.Size([2, 256]) torch.Size([2, 256])\n",
      "torch.Size([2, 256]) torch.Size([2, 256])\n",
      "torch.Size([2, 256]) torch.Size([2, 256])\n",
      "torch.Size([2, 256]) torch.Size([2, 256])\n",
      "torch.Size([2, 256]) torch.Size([2, 256])\n",
      "torch.Size([2, 256]) torch.Size([2, 256])\n",
      "torch.Size([2, 256]) torch.Size([2, 256])\n",
      "torch.Size([2, 256]) torch.Size([2, 256])\n",
      "torch.Size([2, 256]) torch.Size([2, 256])\n",
      "torch.Size([2, 256]) torch.Size([2, 256])\n",
      "torch.Size([2, 256]) torch.Size([2, 256])\n",
      "torch.Size([2, 256]) torch.Size([2, 256])\n",
      "torch.Size([2, 256]) torch.Size([2, 256])\n",
      "torch.Size([2, 256]) torch.Size([2, 256])\n",
      "torch.Size([2, 256]) torch.Size([2, 256])\n",
      "torch.Size([2, 256]) torch.Size([2, 256])\n",
      "torch.Size([2, 256]) torch.Size([2, 256])\n",
      "torch.Size([2, 256]) torch.Size([2, 256])\n",
      "torch.Size([2, 256]) torch.Size([2, 256])\n",
      "torch.Size([2, 256]) torch.Size([2, 256])\n",
      "\n",
      "Validation loader:\n",
      "torch.Size([2, 256]) torch.Size([2, 256])\n",
      "torch.Size([2, 256]) torch.Size([2, 256])\n",
      "torch.Size([2, 256]) torch.Size([2, 256])\n",
      "torch.Size([2, 256]) torch.Size([2, 256])\n"
     ]
    }
   ],
   "source": [
    "print(\"Train loader:\")\n",
    "for x, y in train_loader:\n",
    "    print(x.shape, y.shape)\n",
    "\n",
    "print(\"\\nValidation loader:\")\n",
    "for x, y in val_loader:\n",
    "    print(x.shape, y.shape)"
   ]
  },
  {
   "cell_type": "code",
   "execution_count": 23,
   "id": "c864c5cc-f965-48f2-8e3c-e91698b4ce3c",
   "metadata": {},
   "outputs": [],
   "source": [
    "def calc_loss_batch(input_batch, target_batch, model, device):\n",
    "    input_batch, target_batch = input_batch.to(device), target_batch.to(device)\n",
    "    logits = model(input_batch)\n",
    "    loss = torch.nn.functional.cross_entropy(logits.flatten(0, 1), target_batch.flatten())\n",
    "    return loss\n",
    "\n",
    "\n",
    "def calc_loss_loader(data_loader, model, device, num_batches=None):\n",
    "    total_loss = 0.\n",
    "    if len(data_loader) == 0:\n",
    "        return float(\"nan\")\n",
    "    elif num_batches is None:\n",
    "        num_batches = len(data_loader)\n",
    "    else:\n",
    "        # Reduce the number of batches to match the total number of batches in the data loader\n",
    "        # if num_batches exceeds the number of batches in the data loader\n",
    "        num_batches = min(num_batches, len(data_loader))\n",
    "    for i, (input_batch, target_batch) in enumerate(data_loader):\n",
    "        if i < num_batches:\n",
    "            loss = calc_loss_batch(input_batch, target_batch, model, device)\n",
    "            total_loss += loss.item()\n",
    "        else:\n",
    "            break\n",
    "    return total_loss / num_batches"
   ]
  },
  {
   "cell_type": "code",
   "execution_count": 24,
   "id": "0819d5dc-bf13-4837-ab13-e9bf6a9b2429",
   "metadata": {},
   "outputs": [
    {
     "name": "stdout",
     "output_type": "stream",
     "text": [
      "Training loss: 10.955262530933727\n",
      "Validation loss: 10.996375799179077\n"
     ]
    }
   ],
   "source": [
    "device = torch.device(\"cuda\" if torch.cuda.is_available() else \"cpu\")\n",
    "\n",
    "model.to(device)         # no assignment model = model.to(device) necessary for nn.Module classes\n",
    "\n",
    "torch.manual_seed(123)   # For reproducibility due to the shuffling in the data loader\n",
    "\n",
    "with torch.no_grad():    # Disable gradient tracking for efficiency because we are not training, yet\n",
    "    train_loss = calc_loss_loader(train_loader, model, device)\n",
    "    val_loss = calc_loss_loader(val_loader, model, device)\n",
    "\n",
    "print(\"Training loss:\", train_loss)\n",
    "print(\"Validation loss:\", val_loss)"
   ]
  },
  {
   "cell_type": "code",
   "execution_count": 25,
   "id": "7633a5e7-89b5-41dc-9a90-e14b6f3b1060",
   "metadata": {},
   "outputs": [],
   "source": [
    "# for training the model ...\n",
    "def train_model_simple(model, train_loader, val_loader, optimizer, device, num_epochs,\n",
    "                       eval_freq, eval_iter, start_context, tokenizer):\n",
    "    # Initialize lists to track losses and tokens seen\n",
    "    train_losses, val_losses, track_tokens_seen = [], [], []\n",
    "    tokens_seen, global_step = 0, -1\n",
    "\n",
    "    # Main training loop\n",
    "    for epoch in range(num_epochs):\n",
    "        model.train()  # Set model to training mode\n",
    "        \n",
    "        for input_batch, target_batch in train_loader:\n",
    "            optimizer.zero_grad() # Reset loss gradients from previous batch iteration\n",
    "            loss = calc_loss_batch(input_batch, target_batch, model, device)\n",
    "            loss.backward() # Calculate loss gradients\n",
    "            optimizer.step() # Update model weights using loss gradients\n",
    "            tokens_seen += input_batch.numel()\n",
    "            global_step += 1\n",
    "\n",
    "            # Optional evaluation step\n",
    "            if global_step % eval_freq == 0:\n",
    "                train_loss, val_loss = evaluate_model(\n",
    "                    model, train_loader, val_loader, device, eval_iter)\n",
    "                train_losses.append(train_loss)\n",
    "                val_losses.append(val_loss)\n",
    "                track_tokens_seen.append(tokens_seen)\n",
    "                print(f\"Ep {epoch+1} (Step {global_step:06d}): \"\n",
    "                      f\"Train loss {train_loss:.3f}, Val loss {val_loss:.3f}\")\n",
    "\n",
    "        # Print a sample text after each epoch\n",
    "        generate_and_print_sample(\n",
    "            model, tokenizer, device, start_context\n",
    "        )\n",
    "\n",
    "    return train_losses, val_losses, track_tokens_seen\n",
    "\n",
    "\n",
    "def evaluate_model(model, train_loader, val_loader, device, eval_iter):\n",
    "    model.eval()\n",
    "    with torch.no_grad():\n",
    "        train_loss = calc_loss_loader(train_loader, model, device, num_batches=eval_iter)\n",
    "        val_loss = calc_loss_loader(val_loader, model, device, num_batches=eval_iter)\n",
    "    model.train()\n",
    "    return train_loss, val_loss\n",
    "\n",
    "\n",
    "def generate_and_print_sample(model, tokenizer, device, start_context):\n",
    "    model.eval()\n",
    "    context_size = model.pos_emb.weight.shape[0]\n",
    "    encoded = text_to_token_ids(start_context, tokenizer).to(device)\n",
    "    with torch.no_grad():\n",
    "        token_ids = generate_text_simple(\n",
    "            model=model, idx=encoded,\n",
    "            max_new_tokens=50, context_size=context_size\n",
    "        )\n",
    "    decoded_text = token_ids_to_text(token_ids, tokenizer)\n",
    "    print(decoded_text.replace(\"\\n\", \" \"))  # Compact print format\n",
    "    model.train()"
   ]
  },
  {
   "cell_type": "code",
   "execution_count": 26,
   "id": "93776372-9422-4316-a486-43a12b4cd732",
   "metadata": {},
   "outputs": [
    {
     "name": "stdout",
     "output_type": "stream",
     "text": [
      "Ep 1 (Step 000000): Train loss 9.481, Val loss 9.925\n",
      "Ep 1 (Step 000005): Train loss 7.759, Val loss 8.432\n",
      "Ep 1 (Step 000010): Train loss 6.649, Val loss 7.494\n",
      "Ep 1 (Step 000015): Train loss 5.997, Val loss 7.200\n",
      "Ep 1 (Step 000020): Train loss 5.739, Val loss 6.999\n",
      "Ep 1 (Step 000025): Train loss 5.527, Val loss 6.921\n",
      "Ep 1 (Step 000030): Train loss 5.263, Val loss 6.655\n",
      "Why is water important for animals and plants?                        The the food, and animals, and animals, and animals, and the food, and the food, and animals, and the\n",
      "Ep 2 (Step 000035): Train loss 5.165, Val loss 6.559\n",
      "Ep 2 (Step 000040): Train loss 4.775, Val loss 6.368\n",
      "Ep 2 (Step 000045): Train loss 4.332, Val loss 6.241\n",
      "Ep 2 (Step 000050): Train loss 4.315, Val loss 6.120\n",
      "Ep 2 (Step 000055): Train loss 3.874, Val loss 5.898\n",
      "Ep 2 (Step 000060): Train loss 4.177, Val loss 5.915\n",
      "Ep 2 (Step 000065): Train loss 3.962, Val loss 5.811\n",
      "Why is water important for animals and plants?                                                  \n",
      "Ep 3 (Step 000070): Train loss 3.890, Val loss 5.795\n",
      "Ep 3 (Step 000075): Train loss 3.705, Val loss 5.782\n",
      "Ep 3 (Step 000080): Train loss 3.436, Val loss 5.771\n",
      "Ep 3 (Step 000085): Train loss 3.274, Val loss 5.649\n",
      "Ep 3 (Step 000090): Train loss 2.825, Val loss 5.502\n",
      "Ep 3 (Step 000095): Train loss 2.984, Val loss 5.426\n",
      "Why is water important for animals and plants?                                                  \n",
      "Ep 4 (Step 000100): Train loss 2.955, Val loss 5.349\n",
      "Ep 4 (Step 000105): Train loss 2.638, Val loss 5.425\n",
      "Ep 4 (Step 000110): Train loss 2.497, Val loss 5.378\n",
      "Ep 4 (Step 000115): Train loss 2.409, Val loss 5.421\n",
      "Ep 4 (Step 000120): Train loss 2.367, Val loss 5.301\n",
      "Ep 4 (Step 000125): Train loss 2.238, Val loss 5.323\n",
      "Ep 4 (Step 000130): Train loss 1.999, Val loss 5.336\n",
      "Why is water important for animals and plants?    * The water content of foods can vary greatly, and animals.          * The water content of foods can vary greatly, and animals.   * The water content of foods can be used to\n",
      "Ep 5 (Step 000135): Train loss 2.192, Val loss 5.257\n",
      "Ep 5 (Step 000140): Train loss 1.968, Val loss 5.312\n",
      "Ep 5 (Step 000145): Train loss 1.792, Val loss 5.343\n",
      "Ep 5 (Step 000150): Train loss 1.823, Val loss 5.356\n",
      "Ep 5 (Step 000155): Train loss 2.053, Val loss 5.302\n",
      "Ep 5 (Step 000160): Train loss 1.819, Val loss 5.313\n",
      "Why is water important for animals and plants?                                                  \n",
      "Ep 6 (Step 000165): Train loss 1.707, Val loss 5.322\n",
      "Ep 6 (Step 000170): Train loss 1.575, Val loss 5.414\n",
      "Ep 6 (Step 000175): Train loss 1.331, Val loss 5.364\n",
      "Ep 6 (Step 000180): Train loss 1.604, Val loss 5.257\n",
      "Ep 6 (Step 000185): Train loss 1.565, Val loss 5.274\n",
      "Ep 6 (Step 000190): Train loss 1.515, Val loss 5.305\n",
      "Ep 6 (Step 000195): Train loss 1.311, Val loss 5.357\n",
      "Why is water important for animals and plants?                                                  \n",
      "Ep 7 (Step 000200): Train loss 1.121, Val loss 5.447\n",
      "Ep 7 (Step 000205): Train loss 1.167, Val loss 5.481\n",
      "Ep 7 (Step 000210): Train loss 1.037, Val loss 5.530\n",
      "Ep 7 (Step 000215): Train loss 0.999, Val loss 5.490\n",
      "Ep 7 (Step 000220): Train loss 0.916, Val loss 5.388\n",
      "Ep 7 (Step 000225): Train loss 0.850, Val loss 5.437\n",
      "Ep 7 (Step 000230): Train loss 0.801, Val loss 5.380\n",
      "Why is water important for animals and plants?   * In animals, water content of water is a diet play a critical role in the stage of the water content of foods, and metabolic processes, and they require. This leads to an important to a continuous extraction with petroleum ether for a more\n",
      "Ep 8 (Step 000235): Train loss 0.741, Val loss 5.474\n",
      "Ep 8 (Step 000240): Train loss 0.679, Val loss 5.511\n",
      "Ep 8 (Step 000245): Train loss 0.667, Val loss 5.492\n",
      "Ep 8 (Step 000250): Train loss 0.736, Val loss 5.558\n",
      "Ep 8 (Step 000255): Train loss 0.634, Val loss 5.508\n",
      "Ep 8 (Step 000260): Train loss 0.627, Val loss 5.668\n",
      "Why is water important for animals and plants? The water content of a variety of food. On the overall nutritional value of a diet. It is related to the overall composition of the food. The water content of the nutrient content of the nutrient content of the food.What are the nutrient content\n",
      "Ep 9 (Step 000265): Train loss 0.563, Val loss 5.671\n",
      "Ep 9 (Step 000270): Train loss 0.483, Val loss 5.748\n",
      "Ep 9 (Step 000275): Train loss 0.472, Val loss 5.693\n",
      "Ep 9 (Step 000280): Train loss 0.452, Val loss 5.712\n",
      "Ep 9 (Step 000285): Train loss 0.499, Val loss 5.706\n",
      "Ep 9 (Step 000290): Train loss 0.406, Val loss 5.736\n",
      "Ep 9 (Step 000295): Train loss 0.441, Val loss 5.747\n",
      "Why is water important for animals and plants? The different animal species.How have modern analytical methods evolved to address the overall nutritional value of nutrients are the efficient breakdown of different types of their potential supply of nutrients to the nutrient composition of different foods, the high specific heat of water, the absence\n",
      "Ep 10 (Step 000300): Train loss 0.361, Val loss 5.772\n",
      "Ep 10 (Step 000305): Train loss 0.316, Val loss 5.807\n",
      "Ep 10 (Step 000310): Train loss 0.335, Val loss 5.788\n",
      "Ep 10 (Step 000315): Train loss 0.281, Val loss 5.810\n",
      "Ep 10 (Step 000320): Train loss 0.201, Val loss 5.854\n",
      "Ep 10 (Step 000325): Train loss 0.206, Val loss 5.861\n",
      "Why is water important for animals and plants? The difference between dry matter composition of water from as a dry matter basis is that the diet allows for a more valid comparison of nutrient content because it eliminates the nutrient content of foods can vary greatly, ranging from the food. Additionally, the various classes\n",
      "Ep 11 (Step 000330): Train loss 0.240, Val loss 5.958\n",
      "Ep 11 (Step 000335): Train loss 0.200, Val loss 5.957\n",
      "Ep 11 (Step 000340): Train loss 0.208, Val loss 5.940\n",
      "Ep 11 (Step 000345): Train loss 0.209, Val loss 5.845\n",
      "Ep 11 (Step 000350): Train loss 0.221, Val loss 5.937\n",
      "Ep 11 (Step 000355): Train loss 0.164, Val loss 5.926\n",
      "Ep 11 (Step 000360): Train loss 0.180, Val loss 5.929\n",
      "Why is water important for animals and plants? The water, and how do the general metabolism of foods can greatly impact the overall nutritional value of foods is crucial for a dry matter basis, and water content of water, and animal-based foods, which can lead to a range of plant nutrition\n",
      "Ep 12 (Step 000365): Train loss 0.159, Val loss 5.985\n",
      "Ep 12 (Step 000370): Train loss 0.172, Val loss 5.971\n",
      "Ep 12 (Step 000375): Train loss 0.201, Val loss 6.050\n",
      "Ep 12 (Step 000380): Train loss 0.145, Val loss 6.089\n",
      "Ep 12 (Step 000385): Train loss 0.147, Val loss 6.104\n",
      "Ep 12 (Step 000390): Train loss 0.177, Val loss 6.016\n",
      "Ep 12 (Step 000395): Train loss 0.110, Val loss 6.057\n",
      "Why is water important for animals and plants? The water is necessary for a variety of plant and animal products. The water content of growing plants is related to the stage of nutrient content of foods is important roles in younger plants compared to an important aspect of the body temperature. The water content of\n",
      "Ep 13 (Step 000400): Train loss 0.104, Val loss 6.182\n",
      "Ep 13 (Step 000405): Train loss 0.110, Val loss 6.193\n",
      "Ep 13 (Step 000410): Train loss 0.116, Val loss 6.128\n",
      "Ep 13 (Step 000415): Train loss 0.102, Val loss 6.168\n",
      "Ep 13 (Step 000420): Train loss 0.089, Val loss 6.092\n",
      "Ep 13 (Step 000425): Train loss 0.072, Val loss 6.117\n",
      "Why is water important for animals and plants? The different foods, plants, while the nitrogen-free extractives fraction is a mixture of all components not determined in the other fractions.What are the limitations of the proximate analysis of foods in terms of foods, and an underestimation of foods\n",
      "Ep 14 (Step 000430): Train loss 0.076, Val loss 6.180\n",
      "Ep 14 (Step 000435): Train loss 0.060, Val loss 6.205\n",
      "Ep 14 (Step 000440): Train loss 0.070, Val loss 6.247\n",
      "Ep 14 (Step 000445): Train loss 0.078, Val loss 6.370\n",
      "Ep 14 (Step 000450): Train loss 0.063, Val loss 6.241\n",
      "Ep 14 (Step 000455): Train loss 0.056, Val loss 6.298\n",
      "Ep 14 (Step 000460): Train loss 0.039, Val loss 6.259\n",
      "Why is water important for animals and plants? The difference between expressing food. Crude protein is calculated from the nitrogen content of foods is a balance of the food, determined by a modification of a balance of the animal body varies with age, while the food, and a range from a defined\n",
      "Ep 15 (Step 000465): Train loss 0.055, Val loss 6.235\n",
      "Ep 15 (Step 000470): Train loss 0.046, Val loss 6.276\n",
      "Ep 15 (Step 000475): Train loss 0.065, Val loss 6.283\n",
      "Ep 15 (Step 000480): Train loss 0.045, Val loss 6.305\n",
      "Ep 15 (Step 000485): Train loss 0.045, Val loss 6.272\n",
      "Ep 15 (Step 000490): Train loss 0.055, Val loss 6.272\n",
      "Why is water important for animals and plants? The difference between dry matter composition of food production systems?  Understanding the dry matter composition of foods is crucial for developing more efficient and sustainable food production systems. Dry matter refers to the total amount of solids in a food sample after removing moisture\n",
      "Ep 16 (Step 000495): Train loss 0.045, Val loss 6.291\n",
      "Ep 16 (Step 000500): Train loss 0.033, Val loss 6.332\n",
      "Ep 16 (Step 000505): Train loss 0.041, Val loss 6.375\n",
      "Ep 16 (Step 000510): Train loss 0.039, Val loss 6.404\n",
      "Ep 16 (Step 000515): Train loss 0.037, Val loss 6.407\n",
      "Ep 16 (Step 000520): Train loss 0.037, Val loss 6.390\n",
      "Ep 16 (Step 000525): Train loss 0.035, Val loss 6.392\n",
      "Why is water important for animals and plants? The difference between dry matter composition of foods can vary greatly, the dry matter composition of foods can be used to develop new food products with improved nutritional profiles. By understanding the nutrient composition of different foods, food scientists can design new products that are more\n",
      "Ep 17 (Step 000530): Train loss 0.060, Val loss 6.375\n",
      "Ep 17 (Step 000535): Train loss 0.052, Val loss 6.384\n",
      "Ep 17 (Step 000540): Train loss 0.024, Val loss 6.396\n",
      "Ep 17 (Step 000545): Train loss 0.036, Val loss 6.436\n",
      "Ep 17 (Step 000550): Train loss 0.032, Val loss 6.457\n",
      "Ep 17 (Step 000555): Train loss 0.040, Val loss 6.422\n",
      "Ep 17 (Step 000560): Train loss 0.030, Val loss 6.408\n",
      "Why is water important for animals and plants?  The water, and intestines, crude protein, and ether extract. Modern analytical methods are being developed to characterize foods is determined by animals have a balance of food to a constant weight at 100°C. Ash content of growing plants is higher\n",
      "Ep 18 (Step 000565): Train loss 0.025, Val loss 6.430\n",
      "Ep 18 (Step 000570): Train loss 0.023, Val loss 6.426\n",
      "Ep 18 (Step 000575): Train loss 0.018, Val loss 6.358\n",
      "Ep 18 (Step 000580): Train loss 0.021, Val loss 6.411\n",
      "Ep 18 (Step 000585): Train loss 0.024, Val loss 6.501\n",
      "Ep 18 (Step 000590): Train loss 0.020, Val loss 6.594\n",
      "Why is water important for animals and plants? The difference, and how do the general metabolism of cells. Other organic acids, insulate organs, and play a role in hormone production and monitor changes in hormone production and regulate body temperature. Therefore, dry matter, carbohydrates, lipids, proteins\n",
      "Ep 19 (Step 000595): Train loss 0.012, Val loss 6.506\n",
      "Ep 19 (Step 000600): Train loss 0.014, Val loss 6.408\n",
      "Ep 19 (Step 000605): Train loss 0.013, Val loss 6.428\n",
      "Ep 19 (Step 000610): Train loss 0.021, Val loss 6.455\n",
      "Ep 19 (Step 000615): Train loss 0.017, Val loss 6.493\n",
      "Ep 19 (Step 000620): Train loss 0.014, Val loss 6.446\n",
      "Ep 19 (Step 000625): Train loss 0.018, Val loss 6.496\n",
      "Why is water important for animals and plants? The difference between dry matter composition of water from as little as 60 g/kg in concentrates to the water that an animal consumes through drinking. Both types of foods is often expressed on a dry matter basis. This allows for a more valid comparison\n",
      "Ep 20 (Step 000630): Train loss 0.016, Val loss 6.507\n",
      "Ep 20 (Step 000635): Train loss 0.012, Val loss 6.513\n",
      "Ep 20 (Step 000640): Train loss 0.024, Val loss 6.541\n",
      "Ep 20 (Step 000645): Train loss 0.015, Val loss 6.505\n",
      "Ep 20 (Step 000650): Train loss 0.015, Val loss 6.523\n",
      "Ep 20 (Step 000655): Train loss 0.016, Val loss 6.495\n",
      "Why is water important for animals and plants? The different animal species. This energy is often expressed on a dry matter basis to account for the water content of foods can tailor their water content of growing plants higher in younger plants compared to older ones?  Water content of growing plants is higher\n",
      "Training completed in 1.22 minutes.\n"
     ]
    }
   ],
   "source": [
    "# Now, let's train the LLM using the training function defined above\n",
    "import time\n",
    "start_time = time.time()\n",
    "\n",
    "torch.manual_seed(123)\n",
    "model = GPTModel(GPT_CONFIG_124M)\n",
    "model.to(device)\n",
    "optimizer = torch.optim.AdamW(model.parameters(), lr=0.0004, weight_decay=0.1)\n",
    "\n",
    "num_epochs = 20\n",
    "train_losses, val_losses, tokens_seen = train_model_simple(\n",
    "    model, train_loader, val_loader, optimizer, device,\n",
    "    num_epochs=num_epochs, eval_freq=5, eval_iter=5,\n",
    "    start_context=\"Why is water important for animals and plants?\", tokenizer=tokenizer\n",
    ")\n",
    "\n",
    "execution_time_minutes = (time.time() - start_time) / 60\n",
    "print(f\"Training completed in {execution_time_minutes:.2f} minutes.\")"
   ]
  },
  {
   "cell_type": "code",
   "execution_count": 27,
   "id": "8ebd3ae2-fd41-4b36-a2fd-e48a65420962",
   "metadata": {},
   "outputs": [
    {
     "data": {
      "image/png": "[encoded data removed]",
      "text/plain": [
       "<Figure size 500x300 with 2 Axes>"
      ]
     },
     "metadata": {},
     "output_type": "display_data"
    }
   ],
   "source": [
    "import matplotlib.pyplot as plt\n",
    "from matplotlib.ticker import MaxNLocator\n",
    "\n",
    "\n",
    "def plot_losses(epochs_seen, tokens_seen, train_losses, val_losses):\n",
    "    fig, ax1 = plt.subplots(figsize=(5, 3))\n",
    "\n",
    "    # Plot training and validation loss against epochs\n",
    "    ax1.plot(epochs_seen, train_losses, label=\"Training loss\")\n",
    "    ax1.plot(epochs_seen, val_losses, linestyle=\"-.\", label=\"Validation loss\")\n",
    "    ax1.set_xlabel(\"Epochs\")\n",
    "    ax1.set_ylabel(\"Loss\")\n",
    "    ax1.legend(loc=\"upper right\")\n",
    "    ax1.xaxis.set_major_locator(MaxNLocator(integer=True))  # only show integer labels on x-axis\n",
    "\n",
    "    # Create a second x-axis for tokens seen\n",
    "    ax2 = ax1.twiny()  # Create a second x-axis that shares the same y-axis\n",
    "    ax2.plot(tokens_seen, train_losses, alpha=0)  # Invisible plot for aligning ticks\n",
    "    ax2.set_xlabel(\"Tokens seen\")\n",
    "\n",
    "    fig.tight_layout()  # Adjust layout to make room\n",
    "    plt.savefig(\"loss-plot.pdf\")\n",
    "    plt.show()\n",
    "\n",
    "epochs_tensor = torch.linspace(0, num_epochs, len(train_losses))\n",
    "plot_losses(epochs_tensor, tokens_seen, train_losses, val_losses)"
   ]
  },
  {
   "cell_type": "code",
   "execution_count": 28,
   "id": "2d25fffc-e1fd-4e3a-a35e-8a5d0a047ef9",
   "metadata": {},
   "outputs": [
    {
     "name": "stdout",
     "output_type": "stream",
     "text": [
      "Output text:\n",
      " Why is water important for animals and plants?\n",
      "\n",
      "The chemical reactions water meat organic nutrients. On the overall nutritional value of nutrients in water can also help identify biomarkers\n"
     ]
    }
   ],
   "source": [
    "model.to(\"cpu\")\n",
    "model.eval()\n",
    "\n",
    "tokenizer = tiktoken.get_encoding(\"gpt2\")\n",
    "\n",
    "token_ids = generate_text_simple(\n",
    "    model=model,\n",
    "    idx=text_to_token_ids(\"Why is water important for animals and plants?\", tokenizer),\n",
    "    max_new_tokens=25,\n",
    "    context_size=GPT_CONFIG_124M[\"context_length\"],\n",
    "    top_k = 25,\n",
    "    temperature = 1.4\n",
    ")\n",
    "\n",
    "print(\"Output text:\\n\", token_ids_to_text(token_ids, tokenizer))"
   ]
  },
  {
   "cell_type": "code",
   "execution_count": 29,
   "id": "b0458ea6-f4bd-465b-abe8-a5083e717678",
   "metadata": {},
   "outputs": [
    {
     "data": {
      "text/plain": [
       "'\\ncheckpoint = torch.load(\"GPTtrained.pth\")\\nmodel = GPTModel(GPT_CONFIG_124M)\\nmodel.load_state_dict(checkpoint[\"model_state_dict\"])\\noptimizer = torch.optim.AdamW(model.parameters(), lr=5e-4, weight_decay=0.1optimizer.load_state_dict(checkpoint[\"optimizer_state_dict\"])\\nmodel.train();\\n'"
      ]
     },
     "execution_count": 29,
     "metadata": {},
     "output_type": "execute_result"
    }
   ],
   "source": [
    "torch.save({\n",
    "    \"model_state_dict\": model.state_dict(),\n",
    "    \"optimizer_state_dict\": optimizer.state_dict(),\n",
    "    },\n",
    "    \"GPTtrained.pth\"\n",
    ")\n",
    "\n",
    "\"\"\"\n",
    "checkpoint = torch.load(\"GPTtrained.pth\")\n",
    "model = GPTModel(GPT_CONFIG_124M)\n",
    "model.load_state_dict(checkpoint[\"model_state_dict\"])\n",
    "optimizer = torch.optim.AdamW(model.parameters(), lr=5e-4, weight_decay=0.1optimizer.load_state_dict(checkpoint[\"optimizer_state_dict\"])\n",
    "model.train();\n",
    "\"\"\""
   ]
  }
 ],
 "metadata": {
  "kernelspec": {
   "display_name": "venvLLM",
   "language": "python",
   "name": "venv"
  },
  "language_info": {
   "codemirror_mode": {
    "name": "ipython",
    "version": 3
   },
   "file_extension": ".py",
   "mimetype": "text/x-python",
   "name": "python",
   "nbconvert_exporter": "python",
   "pygments_lexer": "ipython3",
   "version": "3.12.4"
  }
 },
 "nbformat": 4,
 "nbformat_minor": 5
}
